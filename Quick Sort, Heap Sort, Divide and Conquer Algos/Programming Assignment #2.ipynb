{
 "cells": [
  {
   "cell_type": "markdown",
   "id": "dbde0545",
   "metadata": {},
   "source": [
    "# Question 1 Quick Sort Implementation"
   ]
  },
  {
   "cell_type": "code",
   "execution_count": 9,
   "id": "fb4f5cd0",
   "metadata": {},
   "outputs": [],
   "source": [
    "def partition(A, p, r):\n",
    "    #pivot element to be placed in the correct position in A\n",
    "    x = A[r] \n",
    "    #i = index of smaller element, holds current correct position\n",
    "    i = p - 1\n",
    "    \n",
    "    #loop through array p to r-1 \n",
    "    for j in range(p, r):\n",
    "        #if the current element < pivot\n",
    "        if A[j] <= x:\n",
    "            #increment index of smaller element and swap\n",
    "            i += 1\n",
    "            #swap A[i] and A[j]\n",
    "            A[i], A[j] = A[j], A[i]\n",
    "    #swap A[i+1] and A[r]\n",
    "    A[i+1], A[r] = A[r], A[i+1]\n",
    "    return i + 1\n",
    "    \n",
    "    \n",
    "def quickSort(A, p, r):\n",
    "    if p < r:\n",
    "        q = partition(A, p, r)\n",
    "        quickSort(A, p, q-1)\n",
    "        quickSort(A, q+1, r)\n",
    "\n",
    "#to sort A, call quickSort(A, 0, len(A) - 1)\n",
    "#this is a divide and conquer algorithm\n",
    "#take the last element as the pivot and increment through the array until the pivot is in the correct place\n",
    "#call quickSort of the left subarray (all elements < pivot)\n",
    "#call quickSort of right subarray (all elements > pivot)\n",
    "#since this is recursive, p = r (no elements left to sort)"
   ]
  },
  {
   "cell_type": "markdown",
   "id": "51ad8fd4",
   "metadata": {},
   "source": [
    "# Question 1-(1-3) QuickSort Random, Best, and Worst Case"
   ]
  },
  {
   "cell_type": "code",
   "execution_count": 38,
   "id": "8e931ea3",
   "metadata": {},
   "outputs": [
    {
     "name": "stdout",
     "output_type": "stream",
     "text": [
      "Running time with random input: 5.1000009989365935e-05\n",
      "Running time with best input: 5.9399986639618874e-05\n",
      "Running time with worst input: 5.570000212173909e-05\n"
     ]
    }
   ],
   "source": [
    "from timeit import default_timer as timer\n",
    "\n",
    "# Create 3 input arrays\n",
    "# random_set = 1000 randomly generated integers from the range 0-1000\n",
    "# best_set = sorted array of integers from 0 to 1000 \n",
    "# worst_set = reverse-sorted array of integers from 0 to 1000\n",
    "random_set, best_set, worst_set = [], [], []\n",
    "random_set.append(np.random.randint(0, 1000, 1000))\n",
    "best_set.append(np.arange(0, 1000))\n",
    "worst_set.append(np.arange(1000, 0, -1))\n",
    "    \n",
    "\n",
    "# Measure and print the running time of the three inputs\n",
    "start = timer()\n",
    "quickSort(random_set, 0, len(random_set) - 1)\n",
    "end = timer()\n",
    "print(f'Running time with random input: {end - start}')\n",
    "    \n",
    "start = timer()\n",
    "quickSort(best_set, 0, len(best_set) - 1)\n",
    "end = timer()\n",
    "print(f'Running time with best input: {end - start}')\n",
    "    \n",
    "start = timer()\n",
    "quickSort(worst_set, 0, len(worst_set) - 1)\n",
    "end = timer()\n",
    "print(f'Running time with worst input: {end - start}')"
   ]
  },
  {
   "cell_type": "code",
   "execution_count": 32,
   "id": "9028576e",
   "metadata": {},
   "outputs": [
    {
     "data": {
      "image/png": "[encoded data removed]",
      "text/plain": [
       "<Figure size 432x288 with 1 Axes>"
      ]
     },
     "metadata": {
      "needs_background": "light"
     },
     "output_type": "display_data"
    }
   ],
   "source": [
    "import numpy as np\n",
    "# Import timer lib. to measure running time\n",
    "from timeit import default_timer as timer\n",
    "# Import plot lib. to plot results\n",
    "import matplotlib.pyplot as plt\n",
    "\n",
    "\n",
    "# Generate inputs, e.g., when n=100, n=1000, n=2000, ..., n=5000\n",
    "size = [100, 1000, 2000, 3000, 4000, 5000]\n",
    "\n",
    "# Generate different types of inputs\n",
    "# - random_set: randomly generated integer in the range from 0 to 1000000\n",
    "# - best_set: generate integer in ascending order (sorted)\n",
    "# - worst_set: generate integer in descending order\n",
    "random_set, best_set, worst_set = [], [], []\n",
    "for i in range(0, len(size)):\n",
    "    random_set.append(np.random.randint(0, 1000, size[i]))\n",
    "    best_set.append(np.arange(0, size[i]))\n",
    "    worst_set.append(np.arange(size[i], 0, -1))\n",
    "    \n",
    "\n",
    "# We measure running time of algorithm for individual input sets\n",
    "elapsed_time_random, elapsed_time_best, elapsed_time_worst = [], [], []\n",
    "for i in range(0, len(random_set)):\n",
    "    start = timer()\n",
    "    quickSort(random_set[i], 0, len(random_set) - 1)\n",
    "    end = timer()\n",
    "    elapsed_time_random.append(end-start)\n",
    "    \n",
    "    start = timer()\n",
    "    quickSort(best_set[i], 0, len(best_set) - 1)\n",
    "    end = timer()\n",
    "    elapsed_time_best.append(end-start)\n",
    "    \n",
    "    start = timer()\n",
    "    quickSort(worst_set[i], 0, len(worst_set) - 1)\n",
    "    end = timer()\n",
    "    elapsed_time_worst.append(end-start)\n",
    "    \n",
    "# plot the running time results\n",
    "plt.plot(size, elapsed_time_random, color='blue', label='Random input')\n",
    "plt.plot(size, elapsed_time_best, color='red', label='Best-case')\n",
    "plt.plot(size, elapsed_time_worst, color='green', label='Worst-case')\n",
    "plt.title(\"Running time of algorithms\")\n",
    "plt.xlabel(\"Input size\")\n",
    "plt.ylabel(\"Running time\")\n",
    "plt.grid(True)\n",
    "plt.legend()\n",
    "plt.show()"
   ]
  },
  {
   "cell_type": "markdown",
   "id": "52d007b7",
   "metadata": {},
   "source": [
    "## Question 1-(4) Comparision of Running Times"
   ]
  },
  {
   "cell_type": "markdown",
   "id": "eb211837",
   "metadata": {},
   "source": [
    "The running time of Q1-(2) and Q1-(3) are greater than the running time of Q1-(1) because the random input represents the average running time which is O(nlogn). The best case of quick sort is when the pivot is the mean element. For both the sorted and reverse-sorted input arrays, the pivot element is always the last element in the array, not the mean. This is why they both run slower than O(nlogn)."
   ]
  },
  {
   "cell_type": "markdown",
   "id": "7bf14dc8",
   "metadata": {},
   "source": [
    "## Question 1-(5) Quick Sort Improvement"
   ]
  },
  {
   "cell_type": "markdown",
   "id": "c5e30baf",
   "metadata": {},
   "source": [
    "Quick sort can be improved by adjusting the starting pivot. Here, I choose the pivot as the middle element (the mean element for the sorted and reverse-sorted inputs) to start. The implementations and running times are below:"
   ]
  },
  {
   "cell_type": "code",
   "execution_count": 41,
   "id": "f2903346",
   "metadata": {},
   "outputs": [
    {
     "name": "stdout",
     "output_type": "stream",
     "text": [
      "Running time with random input: 5.359998613130301e-05\n",
      "Running time with best input: 4.130000888835639e-05\n",
      "Running time with worst input: 5.099999543745071e-05\n"
     ]
    }
   ],
   "source": [
    "def partition(A, p, r):\n",
    "    #pivot element to be placed in the correct position in A\n",
    "    x = A[p//r] \n",
    "    #i = index of smaller element, holds current correct position\n",
    "    i = p - 1\n",
    "    \n",
    "    #loop through array p to r-1 \n",
    "    for j in range(p, r):\n",
    "        #if the current element < pivot\n",
    "        if A[j] <= x:\n",
    "            #increment index of smaller element and swap\n",
    "            i += 1\n",
    "            #swap A[i] and A[j]\n",
    "            A[i], A[j] = A[j], A[i]\n",
    "    #swap A[i+1] and A[r]\n",
    "    A[i+1], A[r] = A[r], A[i+1]\n",
    "    return i + 1\n",
    "    \n",
    "    \n",
    "def quickSort(A, p, r):\n",
    "    if p < r:\n",
    "        q = partition(A, p, r)\n",
    "        quickSort(A, p, q-1)\n",
    "        quickSort(A, q+1, r)\n",
    "\n",
    "#to sort A, call quickSort(A, 0, len(A) - 1)\n",
    "#this is a divide and conquer algorithm\n",
    "#take the last element as the pivot and increment through the array until the pivot is in the correct place\n",
    "#call quickSort of the left subarray (all elements < pivot)\n",
    "#call quickSort of right subarray (all elements > pivot)\n",
    "#since this is recursive, p = r (no elements left to sort)\n",
    "\n",
    "from timeit import default_timer as timer\n",
    "\n",
    "# Create 3 input arrays\n",
    "# random_set = 1000 randomly generated integers from the range 0-1000\n",
    "# best_set = sorted array of integers from 0 to 1000 \n",
    "# worst_set = reverse-sorted array of integers from 0 to 1000\n",
    "random_set, best_set, worst_set = [], [], []\n",
    "random_set.append(np.random.randint(0, 1000, 1000))\n",
    "best_set.append(np.arange(0, 1000))\n",
    "worst_set.append(np.arange(1000, 0, -1))\n",
    "    \n",
    "\n",
    "# Measure and print the running time of the three inputs\n",
    "start = timer()\n",
    "quickSort(random_set, 0, len(random_set) - 1)\n",
    "end = timer()\n",
    "print(f'Running time with random input: {end - start}')\n",
    "    \n",
    "start = timer()\n",
    "quickSort(best_set, 0, len(best_set) - 1)\n",
    "end = timer()\n",
    "print(f'Running time with best input: {end - start}')\n",
    "    \n",
    "start = timer()\n",
    "quickSort(worst_set, 0, len(worst_set) - 1)\n",
    "end = timer()\n",
    "print(f'Running time with worst input: {end - start}')"
   ]
  },
  {
   "cell_type": "markdown",
   "id": "fdd6ddd2",
   "metadata": {},
   "source": [
    "# Question 2 Heap Sort"
   ]
  },
  {
   "cell_type": "code",
   "execution_count": 52,
   "id": "05b4a8e5",
   "metadata": {},
   "outputs": [
    {
     "name": "stdout",
     "output_type": "stream",
     "text": [
      "Randomly-generated input: [106 363 930 829 838 793 249 180 186 327 346 348  59 129 501 569 482 726\n",
      " 316  45]\n",
      "Sorted array in decending order: [930 838 829 793 726 569 501 482 363 348 346 327 316 249 186 180 129 106\n",
      "  59  45]\n"
     ]
    }
   ],
   "source": [
    "import numpy as np\n",
    "\n",
    "def minHeapify(A, n, i):\n",
    "    #store left, right values\n",
    "    l = 2 * i + 1\n",
    "    r = 2 * i + 2\n",
    "    \n",
    "    #if left child < root\n",
    "    if l < n and A[l] < A[i]:\n",
    "        smallest = l\n",
    "    else:\n",
    "        smallest = i\n",
    "    \n",
    "    #if right child < current smallest\n",
    "    if r < n and A[r] < A[smallest]:\n",
    "        smallest = r\n",
    "    \n",
    "    #if smallest is not root, exchange A[i] and A[smallest], and recurse\n",
    "    if smallest != i:\n",
    "        A[i], A[smallest] = A[smallest], A[i]\n",
    "        minHeapify(A, n, smallest)\n",
    "    \n",
    "def buildMinHeap(A, n):\n",
    "    for i in range(int(n/2 - 1), -1, -1):\n",
    "        minHeapify(A, n, i)\n",
    "\n",
    "def heapSort(A, n):\n",
    "    buildMinHeap(A, n)\n",
    "    for i in range(n - 1, -1, -1):\n",
    "        A[0], A[i] = A[i], A[0]\n",
    "        minHeapify(A, i, 0)\n",
    "\n",
    "random_input = np.random.randint(0, 1000, 20)\n",
    "print(f'Randomly-generated input: {random_input}')\n",
    "heapSort(random_input, len(random_input))\n",
    "print(f'Sorted array in decending order: {random_input}')"
   ]
  },
  {
   "cell_type": "markdown",
   "id": "5010911c",
   "metadata": {},
   "source": [
    "# Question 3 Smallest Missing Positive Integer"
   ]
  },
  {
   "cell_type": "code",
   "execution_count": 75,
   "id": "551fe9d4",
   "metadata": {},
   "outputs": [
    {
     "name": "stdout",
     "output_type": "stream",
     "text": [
      "Number of non-positive integers: 5\n",
      "Partitioned array: \n",
      "[-100, -62, -78, -12, -32, 23, 14, 4, 7, 5, 3, 6, 94, 97, 10, 1, 2]\n",
      "Smallest missing positive integer: 8\n"
     ]
    }
   ],
   "source": [
    "# this function partitions the array splitting it into + and - subarrays\n",
    "# in-place (no extra space needed)\n",
    "# return the number of negative ints, 0\n",
    "def partition(A, n):\n",
    "    count = 0\n",
    "    for i in range(n):\n",
    "        if A[i] <= 0:\n",
    "            A[i], A[count] = A[count], A[i]\n",
    "            count += 1\n",
    "    return count\n",
    "\n",
    "# this function calls partition to find the number of non-pos ints\n",
    "# then, it modifies A to only hold positive ints and calculates the new size\n",
    "# iterate through A and mark each element by changing its sign\n",
    "# iterate through once again and find the fist pos val \n",
    "# return the index + 1 of the current iteration for smallest pos missing int\n",
    "def findMissingPosInt(A, n):\n",
    "    # find the pivot (starting element of + subarray)\n",
    "    pivot = partition(A, n)\n",
    "    \n",
    "    # modify A to hold only positive ints\n",
    "    A = A[pivot:]\n",
    "    # calculate new size of A\n",
    "    newSize = n - pivot\n",
    "    \n",
    "    for i in range(newSize):\n",
    "        if(abs(A[i]) - 1 < newSize and A[abs(A[i]) - 1] > 0):\n",
    "            A[abs(A[i]) - 1] = -A[abs(A[i]) - 1]\n",
    "    \n",
    "    for j in range(newSize):\n",
    "        if A[j] > 0:\n",
    "            return j + 1\n",
    "    return newSize + 1\n",
    "\n",
    "A = [-100, 10, 5, 6, -62, 23, 14, 4, 7, -78, 3, -12, 94, 97, -32, 1, 2]\n",
    "piv = partition(A, len(A))\n",
    "print(f'Number of non-positive integers: {piv}')\n",
    "print(f'Partitioned array: \\n{A}')\n",
    "number = findMissingPosInt(A, len(A))\n",
    "print(f'Smallest missing positive integer: {number}')"
   ]
  },
  {
   "cell_type": "markdown",
   "id": "78e9ac0d",
   "metadata": {},
   "source": [
    "# Question 4: Max-Min Problem"
   ]
  },
  {
   "cell_type": "code",
   "execution_count": 50,
   "id": "b0a0202e",
   "metadata": {},
   "outputs": [
    {
     "name": "stdout",
     "output_type": "stream",
     "text": [
      "Maximum: 97\n",
      "Minimum: -100\n"
     ]
    }
   ],
   "source": [
    "def findMaxMin(A, l, r, minN, maxN):\n",
    "    # if there is only one element in A\n",
    "    if l == r:\n",
    "        if minN > A[r]: minN = A[r]\n",
    "        if maxN < A[l]: maxN = A[l]\n",
    "        \n",
    "        return minN, maxN\n",
    "    \n",
    "    # if there are only two elements in A\n",
    "    if r - l == 1:\n",
    "        if A[l] < A[r]:\n",
    "            if minN > A[l]: minN = A[l]\n",
    "            if maxN < A[r]: maxN = A[r]\n",
    "        else:\n",
    "            if minN > A[r]: minN = A[r]\n",
    "            if maxN < A[l]: maxN = A[l]\n",
    "        \n",
    "        return minN, maxN\n",
    "    \n",
    "    # calculate middle element\n",
    "    m = (l + r) // 2\n",
    "    \n",
    "    # recurse for left subarray\n",
    "    minN, maxN = findMaxMin(A, l, m, minN, maxN)\n",
    "    \n",
    "    # recurse for right subarray\n",
    "    minN, maxN = findMaxMin(A, m + 1, r, minN, maxN)\n",
    "    \n",
    "    return minN, maxN\n",
    "\n",
    "\n",
    "# driver code\n",
    "A = [-100, 10, 5, 6, -62, 23, 14, 4, 7, -78, 3, -12, 94, 97, -32, 1, 2]\n",
    "left = 0\n",
    "right = len(A) - 1\n",
    "minN, maxN = 0, 0\n",
    "(minNum, maxNum) = findMaxMin(A, left, right, minN, maxN)\n",
    "print(f'Maximum: {maxNum}')\n",
    "print(f'Minimum: {minNum}')"
   ]
  },
  {
   "cell_type": "markdown",
   "id": "db3aede2",
   "metadata": {},
   "source": [
    "# Question 5-(1) Maximum Profit Problem"
   ]
  },
  {
   "cell_type": "code",
   "execution_count": 38,
   "id": "93098003",
   "metadata": {},
   "outputs": [
    {
     "name": "stdout",
     "output_type": "stream",
     "text": [
      "Random input array: [26 70 35 68 68 15 11 96 24 27 69 64 93 99 35 89 23 45 42 77 48 17 82 84\n",
      "  6 30 53 52 16 90 22 60 49 53 17 86 60  2 33 47 27 81 92 95 40 41 35 41\n",
      " 73 18 68 92 39 69 47 17  9  2 85  8 69 35 14 16 60 41 67 97 12 62 36 92\n",
      " 82 55 28 51 14 70 35 48 53 44 61  1 76 94 14 77 86 70 48 94 68 14 90 24\n",
      " 29 38 19 83 73 36 78 59 83 84 78 41 18 66 37 73 49 67 99 60  3 77 25 65\n",
      " 42 91 50 90 68 58 79 96 24 24 44 52 46 15 66 20 40 18 39 12 71 41 74 23\n",
      " 73 38 26 47  3 42 58 48 50 86 79 93 68  6 68 29 23 70 87 61 78  7 90 27\n",
      " 38 69  7  6 42 79 73 47 21 23 86 69 16 49 57 89 70 16  6 51 87 77 65 17\n",
      " 19  0 89  0 17 63 58 90 70 39  9 98 43 87 37 85 41 46 37 84 25 95  7 72\n",
      " 61 51  3 34 74  3 89 15 39 23 19 56 41 65 80 29 37 18 95 70 75 97 44 62\n",
      " 86  4 58 28 42 90 48 56 29 62  6 20 59 66 75 75 36 24 66 13 92 73 87  4\n",
      " 60 47 48 62 46 19 39 24 20 14 44 29 33 53 29 67  7 84 54 59 50 26 78  9\n",
      " 79 74 54 63 42 40 65 32 79  6 63 58 35 84 45 36 54 56 73 41 59  2 89 53\n",
      " 71 23  5 71 75 93 98 36 38 47 80 78 54 67 66 70 68 94 39 51 44 66 80 84\n",
      "  6 26 85 30  1 42 92 20 29  9 59 80 90 95  7 30 43 38 10 43 41 36 47 82\n",
      " 15  5 19  3  9 44 84 56 82 78 29 54 69 49 36 39 40 10 27 36 55  0 60 71\n",
      " 90 41 14 14 89 18 80 90 26 10 67 49 62 39 15 38 34  5  5 90 60 65 85 36\n",
      " 79 31 81 66 16 67 67 51 91 89 84 10 10  1 18 90  8 79 42  5  5 36 46 13\n",
      " 78 39 87 87 87 24 66 25 51 68 31 33 84 79 52 15 96 65 99  1 69 93 97 53\n",
      " 54 60 88 61 82 23 68 62  1 99 46 15 94 29 15  5 66 70 51 55 82 27 31 82\n",
      " 96 57  7 57 59 21 69 97 69 90 21 52 57 61 73  6 43 54  7 72 67 10 92 75\n",
      " 28 87 24  1 30 10 39 40 26 71  4 53 33 95 55 68 36 69 43 28 66  2 28 58\n",
      " 98 42 94 25 85 81  9  9 31 88 40 89 26 97 69 13  1  0 89  4 85 58 64 94\n",
      " 91 96 57 87  4 24 15 22  9 79 15 33 96 49  1 81 42 93 28 14 77 55 56 19\n",
      "  9 68 60 50 13 79 83 58  6 14 38 53 50  3 10 77 87 64 51 28 50 30 21 14\n",
      " 23 81 49 87 34 34 89 60 55 91 82 41 63 83  7 27 75 45 62 64 62 73 43 98\n",
      " 70 20 98 63 12 13 32  6 36 93 71 24  0 16 76 76 63 28 93 51 55 75 56 97\n",
      " 94 57 60 74 24 48 25 48 20 88 82 55 65 86 41 74 77 69  0 90 73 77 10 67\n",
      " 80 70 16 20 60 49 78 20 10 35 16 62 13 53 15 82 86 33 98 82 42 29 17 86\n",
      " 98 38 81 90 77 78 20 38 65 21  9 96 17 38 13 87 19 11 93 58 67 33 31  7\n",
      "  2 42 78 65 34  5 24 84 96 42 43 41 18 84 10 85 86 48 45 27 66 76 64 38\n",
      " 65 61  9 66 75 41  0  8 26 38 23 30 30 60 74 38 57 52 64 52 37  3 17 12\n",
      " 26  3 49  9 33 99 89 81 58 29 73 71 22 77 93 11  7 11 54 94 91  1 59 34\n",
      " 35 64  1 94 43  9 88 48 50  0 75 98 92 89 72 14  8 47 46 58 30 58 89 41\n",
      " 28 46 65 39 13 81 35 53 86 78 83 73 22 15 85 54 13 30  3 20 27 23 87 37\n",
      " 57  1 39 66 19 28 90 81  2 56 63 54 21 94 55 35 50 38 24 63 83 43 33 26\n",
      " 25  5 29 47 47 88 49 42 31 96 53 14 22 96 35 94 37 43 72 48 55 12 54 84\n",
      " 64 57  0 97  9 50  5 29 26 14 64 41  5 19 89 53 28 84 19 14 15 15 72 83\n",
      " 54 15 20 51 85 78 52 92 44  6 38 88 92 28  5 32 80 74 43 31  6 10 59 64\n",
      " 34 33 88 74 97 30 30 25 47 89 66 95 28 74 45 77  7 50 69 61 11 71 67 69\n",
      " 50 62 96 60 37 41 59 46 76 70 45 67 86 77 22 89 58 50 51 86 46 61  2  3\n",
      " 18 52 87  6 60 84 49 61 61 81 11 40 34 54 68 57]\n",
      "Max profit: 99\n",
      "Execution Time: 0.0005987000004097354 seconds\n"
     ]
    }
   ],
   "source": [
    "import numpy as np\n",
    "from timeit import default_timer as timer\n",
    "\n",
    "# this is a leetcode question and this is the most optimal solution\n",
    "# it uses the 2 pointer method and only iterates through the array once\n",
    "# it runs at O(n) time and divide and conquer is not faster as can be seen from the running times below\n",
    "def maxProfit(prices):\n",
    "    maxP = 0\n",
    "    leftPtr = 0\n",
    "    rightPtr = 1\n",
    "    \n",
    "    while rightPtr < len(prices):\n",
    "            if prices[leftPtr] < prices[rightPtr]:\n",
    "                profit = prices[rightPtr] - prices[leftPtr]\n",
    "                if profit > maxP: maxP = profit\n",
    "                rightPtr += 1\n",
    "            else:\n",
    "                temp = rightPtr\n",
    "                rightPtr += 1\n",
    "                leftPtr = temp\n",
    "\n",
    "    return maxP\n",
    "\n",
    "# driver code\n",
    "prices = np.random.randint(0, 100, 10**3)\n",
    "print(f'Random input array: {prices}')\n",
    "start = timer()\n",
    "maxProf = maxProfit(prices)\n",
    "end = timer()\n",
    "print(f'Maximum profit: {maxProf}')\n",
    "print(f'Execution Time: {end - start} seconds')"
   ]
  },
  {
   "cell_type": "markdown",
   "id": "c40c6a15",
   "metadata": {},
   "source": [
    "## Question 5-(2) Divide and Conquer Approach"
   ]
  },
  {
   "cell_type": "code",
   "execution_count": 1,
   "id": "85d90f7a",
   "metadata": {},
   "outputs": [
    {
     "name": "stdout",
     "output_type": "stream",
     "text": [
      "Random input array: [65 19 45 27 68 90  6 23 30 87 77 90 93 84 30 57 80 12 76 76 68 65 56 78\n",
      " 53 68 92  3 84 72 89 14 38 39 94 86 23 30 14 59  5 29  1 36 77 43 74 56\n",
      " 71 17 40 81 79 47 82 93 70 25 54 19 83 93  5 36 78 92 83 36 77 81 13  7\n",
      " 37 64 21 66 35 57 45 46 33 40  7 18 11 66 77 36 55  4 86  9 40 97 77 66\n",
      " 18 29 56 25 99 97  5  1 94 78 14 65 29 36 43  5 50 20 13 81 25 50  9 82\n",
      " 17 77 23 49 15  0 52 29 78 43 26 25 32  2 98 13 66 41 42 49  2 87 33 33\n",
      " 10 58 63 37 63 58 75 66  2 13 12 61 99  6 90 92 42 62 23 18 57 48 13 95\n",
      " 13 79 11  2 89  3 59 83 42  4 51 60 47 19 28 20 43 64 54 47 75 46 87 39\n",
      " 46 23 88 37 16 27 66 65 12 76 24 15 14 67 39 69 94 83 65 75 47 19 54 60\n",
      " 90 57 83 19 70 50 38 54 64 83 82 96 80 75 59  9 12 20 72 69 72 79 35 64\n",
      " 44 34 16 21 65 74 69 89 76 65  8  2 34 53 81 16 79 49 34 98 72 10 20  0\n",
      " 93 47 88  0 19 39 24 52 81 17 93 91 99 27 76 30 56 32 97 78 83 46 59 34\n",
      " 26 82  0 34 62  3 22 46  6 76 31 88 65 15 15 29 69 28 89 27 79 84 85 23\n",
      " 34  0 27 10 38 42 75  9 51 30 97 46 16  0 15  1 69 63 39 55  4 73 32 35\n",
      " 24 11 14 25 96 93 64 47 79 73 68 99 74  6 24 67 95 60 99 87 61 66 49 47\n",
      " 46 29 94 20 69  1 39 57  8 91 88 48 36 95 84 54 45 40 11 22 11 80  2 55\n",
      " 25 98  9 20 14 44 30 97 92 43 27 13 47  7 83 40 62 73 40 77 35 58 33 74\n",
      " 33 77 39 68 34 61 18 63 48 10 32 98 61 61 58 46 24 53 24 37 14 95 20  4\n",
      " 12 36 95 17 18 53  1 39  9 23 48 69 93  4 12 84 93 36 59 74 16 34 29 93\n",
      " 76 71 95 99 13 84 88 94 19 90 34  6 71 22 43 43 64 62 99 65 95 63 11 26\n",
      " 88 25 25 47 70 22 63 74 40 53 20 10 88 44  5 37 15 10 40 17 18 55  2 85\n",
      " 44 15 81 97 14 15 47 70 78 64  2 49  8 61 82 85 56 72 46 73 32 41  9 98\n",
      " 40 68 69  1 34 69 83 43 74 67 21 66 38 26 52 19 51  2 28 85  4 92 35 93\n",
      " 20 44 98 42 88 88 97 13 24 29 23 45 44 65 21 52 51 82 47 77 27 97 74 68\n",
      " 49 90 37 86 10 72 82  1 14 69 48 83 17  5  1 61 93 19 42 70 93 64 72 14\n",
      " 21 64 36 38 50 42 17 45 29 40 96 41 66 26 63 73 47 60 11 57 34 90 82 10\n",
      " 26 50 11 77 61 74 19 20 43 72 51 79  5 18 89 72 40 89 82 12 67  3 29 20\n",
      " 59 55 64 43 53 72  7 19 89 93 25 88 27 54 62 81 18 58 71 84 63 15 13 19\n",
      " 13 56 26 74 49 52 77 56 64 88 99 87 24 40  4 33 56 20 69 74 26  7 45 49\n",
      " 97 96 32 37 96 64 66 90  9 66  4 55 97 65 52 71 15 92 19 83 56 90 88 81\n",
      " 52 18  1 87 63 51 74 83 43 83 15 62 66 97 88 19 11 90 24 88  8 55  1 96\n",
      "  3 89 44 60 56 27  5 62 12 65 87 49 50 33 86 70 79 88  0 70 98 66 14 66\n",
      " 81  1 92 99 37  9 35  0  2 99 74  9 85 77 96  7  0 54 13 52 22 25 27 82\n",
      " 59 45 71 10 74 88 14 81 33 14 73 67 29  0 38 83 26 26 96 88 65 68 77 47\n",
      "  6 54 30 56 36 32  6 22 99 45 92 92 39 78 41 96 46 12 35 13 10 34 27 74\n",
      " 64 50 48 86 87  4 34 50 36 61 19 70 72 21 25 25 94 11 65 79 66  6 57 14\n",
      " 29 65 92 98 50 38  6 94 43 26 51  3 42 64 57  6 43 85 80 31 73 80 41 37\n",
      " 96 61 58 38  1 47 51 80 45 43 12 71 51 28 28 92 75 90 35 11 52 33 36 61\n",
      " 12 12 94 35 49 63 65  8 92 63 25 93 17 99 24 76 24 28 39 92 68 12 47 97\n",
      " 86 77 61 47 60 33 65 29 53 60 62 51 95 74 29 97 27 19 34 57 57 52 61 90\n",
      " 27 80 55  0 53 71 73 19 86 97 64 50 25  8 60 98 65 10 21 88 19 92 60 92\n",
      " 35 60 72 47 13 49 28 72 25 59 28  1 87 32 78 17]\n",
      "Maximum profit: 99\n",
      "Execution Time: 0.0027090999999970222 seconds\n"
     ]
    }
   ],
   "source": [
    "import numpy as np\n",
    "from timeit import default_timer as timer\n",
    "\n",
    "def maxProfitRec(A):\n",
    "    if len(A) <= 1: return 0\n",
    "    \n",
    "    # split into left subarray\n",
    "    left  = A[ : int(len(A) / 2)]\n",
    "    # split into right subarray\n",
    "    right = A[int(len(A) / 2) : ]\n",
    "\n",
    "    # find max in left and right subarrays\n",
    "    leftProfit  = maxProfitRec(left)\n",
    "    rightProfit = maxProfitRec(right)\n",
    "\n",
    "    # calculate current max profit\n",
    "    maxProfit = max(right) - min(left)\n",
    "\n",
    "    # find the max of right, left, and max profit\n",
    "    finalProfit = max(leftProfit, rightProfit, maxProfit)\n",
    "    \n",
    "    # return final profit\n",
    "    return finalProfit\n",
    "\n",
    "# driver code\n",
    "A = np.random.randint(0, 100, 10**3)\n",
    "print(f'Random input array: {A}')\n",
    "left = 0\n",
    "right = len(A) - 1\n",
    "start = timer()\n",
    "profit = maxProfitRec(A)\n",
    "end = timer()\n",
    "print(f'Maximum profit: {profit}')\n",
    "print(f'Execution Time: {end - start} seconds')"
   ]
  },
  {
   "cell_type": "markdown",
   "id": "6c633996",
   "metadata": {},
   "source": [
    "## Question 5-(3) Comparison"
   ]
  },
  {
   "cell_type": "markdown",
   "id": "d21ac23f",
   "metadata": {},
   "source": [
    "My \"brute force\" solution is indeed faster as I indicated previously. The two pointer method runs in O(n) time and divide and conquer cannot be faster. As seen from 5-(2), divide and conquer takes O(nlogn) time and is slower than the optimal solution using 2 pointers and iterating only once."
   ]
  }
 ],
 "metadata": {
  "kernelspec": {
   "display_name": "Python 3 (ipykernel)",
   "language": "python",
   "name": "python3"
  },
  "language_info": {
   "codemirror_mode": {
    "name": "ipython",
    "version": 3
   },
   "file_extension": ".py",
   "mimetype": "text/x-python",
   "name": "python",
   "nbconvert_exporter": "python",
   "pygments_lexer": "ipython3",
   "version": "3.9.12"
  }
 },
 "nbformat": 4,
 "nbformat_minor": 5
}
