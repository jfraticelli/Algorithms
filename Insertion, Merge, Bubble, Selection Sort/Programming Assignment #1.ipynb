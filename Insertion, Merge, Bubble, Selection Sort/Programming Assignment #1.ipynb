{
 "cells": [
  {
   "cell_type": "markdown",
   "id": "c16fbb4a",
   "metadata": {},
   "source": [
    "# Question 1-(1): Insertion Sort Implementation"
   ]
  },
  {
   "cell_type": "code",
   "execution_count": 19,
   "id": "ce605cac",
   "metadata": {},
   "outputs": [
    {
     "name": "stdout",
     "output_type": "stream",
     "text": [
      "[-1, 0, 3, 10, 12, 16, 23, 23, 32, 56]\n"
     ]
    }
   ],
   "source": [
    "def insertionSort(A):\n",
    "    for j in range(1, len(A)):\n",
    "        key = A[j]\n",
    "        #insert into sorted sequence:\n",
    "        i = j - 1\n",
    "        while i >= 0 and A[i] > key:\n",
    "            A[i+1] = A[i]\n",
    "            i = i - 1\n",
    "        A[i+1] = key\n",
    "\n",
    "A = [23, 12, 56, -1, 23, 32, 3, 0, 10, 16]\n",
    "insertionSort(A)\n",
    "print(A)"
   ]
  },
  {
   "cell_type": "markdown",
   "id": "666b3985",
   "metadata": {},
   "source": [
    "# Question 1-(2): Measuring Insertion Sort's Running Time"
   ]
  },
  {
   "cell_type": "code",
   "execution_count": 20,
   "id": "ed14239c",
   "metadata": {},
   "outputs": [
    {
     "data": {
      "image/png": "[encoded data removed]",
      "text/plain": [
       "<Figure size 432x288 with 1 Axes>"
      ]
     },
     "metadata": {
      "needs_background": "light"
     },
     "output_type": "display_data"
    }
   ],
   "source": [
    "import numpy as np\n",
    "# Import timer lib. to measure running time\n",
    "from timeit import default_timer as timer\n",
    "# Import plot lib. to plot results\n",
    "import matplotlib.pyplot as plt\n",
    "\n",
    "\n",
    "# Generate inputs, e.g., when n=100, n=1000, n=2000, ..., n=5000\n",
    "size = [100, 1000, 2000, 3000, 4000, 5000]\n",
    "\n",
    "# Generate different types of inputs\n",
    "# - random_set: randomly generated integer in the range from 0 to 1000000\n",
    "# - best_set: generate integer in ascending order (sorted)\n",
    "# - worst_set: generate integer in descending order\n",
    "random_set, best_set, worst_set = [], [], []\n",
    "for i in range(0, len(size)):\n",
    "    random_set.append(np.random.randint(0, 1000000, size[i]))\n",
    "    best_set.append(np.arange(0, size[i]))\n",
    "    worst_set.append(np.arange(size[i], 0, -1))\n",
    "    \n",
    "\n",
    "# We measure running time of algorithm for individual input sets\n",
    "elapsed_time_random, elapsed_time_best, elapsed_time_worst = [], [], []\n",
    "for i in range(0, len(random_set)):\n",
    "    start = timer()\n",
    "    insertionSort(random_set[i])\n",
    "    end = timer()\n",
    "    elapsed_time_random.append(end-start)\n",
    "    \n",
    "    start = timer()\n",
    "    insertionSort(best_set[i])\n",
    "    end = timer()\n",
    "    elapsed_time_best.append(end-start)\n",
    "    \n",
    "    start = timer()\n",
    "    insertionSort(worst_set[i])\n",
    "    end = timer()\n",
    "    elapsed_time_worst.append(end-start)\n",
    "    \n",
    "# plot the running time results\n",
    "plt.plot(size, elapsed_time_random, color='blue', label='Random input')\n",
    "plt.plot(size, elapsed_time_best, color='red', label='Best-case')\n",
    "plt.plot(size, elapsed_time_worst, color='green', label='Worst-case')\n",
    "plt.title(\"Running time of algorithms\")\n",
    "plt.xlabel(\"Input size\")\n",
    "plt.ylabel(\"Running time\")\n",
    "plt.grid(True)\n",
    "plt.legend()\n",
    "plt.show()"
   ]
  },
  {
   "cell_type": "markdown",
   "id": "f15f9288",
   "metadata": {},
   "source": [
    "# Question 1-(3): Insertion Sort Running Time Trends Based on Inputs"
   ]
  },
  {
   "cell_type": "markdown",
   "id": "506e8d18",
   "metadata": {},
   "source": [
    "### Best Case Input (Sorted Array): \n",
    "With the input as an already-sorted array, the running time of insertion sort is: \n",
    "$\\Theta(n)$, $\\Omega(n)$, and $O(n)$\n",
    "\n",
    "### Worst Case Input (Reverse-Sorted Array):\n",
    "With the input array in reverse-sorted order, the running time of insertion sort is:\n",
    "$\\Theta(n^2)$, $\\Omega(n^2)$, and $O(n^2)$\n",
    "\n",
    "### Random Input (Randomly-Populated Array):\n",
    "With a random input array, the running time is around half of the worst-case, but that simplifies to:\n",
    "$\\Theta(n^2)$, $\\Omega(n^2)$, and $O(n^2)$"
   ]
  },
  {
   "cell_type": "markdown",
   "id": "1a0cc55d",
   "metadata": {},
   "source": [
    "# Question 2-(1): Merge Sort Implementation"
   ]
  },
  {
   "cell_type": "code",
   "execution_count": 29,
   "id": "1abbbb56",
   "metadata": {
    "scrolled": false
   },
   "outputs": [
    {
     "name": "stdout",
     "output_type": "stream",
     "text": [
      "[-1, 0, 3, 10, 12, 16, 23, 23, 32, 56]\n"
     ]
    }
   ],
   "source": [
    "def merge(A, p, q, r):\n",
    "    # calculate length of left and right subarray respectively\n",
    "    n1 = q - p + 1\n",
    "    n2 = r - q\n",
    "    \n",
    "    # initialize left and right subarrays\n",
    "    L = [0] * n1\n",
    "    R = [0] * n2\n",
    "    \n",
    "    # copy original elements in A to L and R\n",
    "    for i in range(n1):\n",
    "        L[i] = A[p + i]\n",
    "    for j in range (n2):\n",
    "        R[j] = A[q + 1 + j]\n",
    "        \n",
    "    i = 0  # starting index of L subarray\n",
    "    j = 0  # starting index of R subarray\n",
    "    k = p  # starting index of merged subarray\n",
    "    \n",
    "    # merge left and right subarrays with simple comparisons \n",
    "    while i < n1 and j < n2:\n",
    "        if L[i] < R[j]:\n",
    "            A[k] = L[i]\n",
    "            i += 1\n",
    "        else:\n",
    "            A[k] = R[j]\n",
    "            j += 1\n",
    "        k += 1\n",
    "    \n",
    "    # if any values are left in L, copy them to A\n",
    "    while i < n1: \n",
    "        A[k] = L[i]\n",
    "        i += 1\n",
    "        k += 1\n",
    "    \n",
    "    # if any values are left in R, copy them to A\n",
    "    while j < n2:\n",
    "        A[k] = R[j]\n",
    "        j += 1\n",
    "        k += 1\n",
    "    \n",
    "    \n",
    "def mergeSort(A, p, r):\n",
    "    if p < r:\n",
    "        q = (p + r) // 2\n",
    "    \n",
    "        mergeSort(A, p, q)\n",
    "        mergeSort(A, q+1, r)\n",
    "        merge(A, p, q, r)\n",
    "        \n",
    "# testing with input from Q1-(1)\n",
    "A = [23, 12, 56, -1, 23, 32, 3, 0, 10, 16]\n",
    "mergeSort(A, 0, 9)\n",
    "print(A)"
   ]
  },
  {
   "cell_type": "markdown",
   "id": "adb8d16a",
   "metadata": {},
   "source": [
    "# Question 2-(2): Measuring Merge Sort's vs. Insertion Sort's Running Time "
   ]
  },
  {
   "cell_type": "code",
   "execution_count": 51,
   "id": "69043ee4",
   "metadata": {},
   "outputs": [
    {
     "data": {
      "image/png": "[encoded data removed]",
      "text/plain": [
       "<Figure size 432x288 with 1 Axes>"
      ]
     },
     "metadata": {
      "needs_background": "light"
     },
     "output_type": "display_data"
    }
   ],
   "source": [
    "import numpy as np\n",
    "# Import timer lib. to measure running time\n",
    "from timeit import default_timer as timer\n",
    "# Import plot lib. to plot results\n",
    "import matplotlib.pyplot as plt\n",
    "\n",
    "\n",
    "# Generate inputs, e.g., when n=100, n=1000, n=2000, ..., n=5000\n",
    "size = [100, 1000, 2000, 3000, 4000, 5000]\n",
    "\n",
    "# Generate different types of inputs\n",
    "# - random_insertion_sort: randomly generated integer in the range from 0 to 1000000 for insertion sort use\n",
    "# - random_merge_sort:     randomly generated integer in the range from 0 to 1000000 for merge sort use\n",
    "random_insertion_sort, random_merge_sort = [], []\n",
    "for i in range(0, len(size)):\n",
    "    random_insertion_sort.append(np.random.randint(0, 1000000, size[i]))\n",
    "    random_merge_sort.append(np.random.randint(0, 1000000, size[i]))\n",
    "    \n",
    "# We measure running time of algorithm for individual input sets\n",
    "elapsed_time_insertion, elapsed_time_merge = [], []\n",
    "for i in range(0, len(random_merge_sort)):\n",
    "    start = timer()\n",
    "    mergeSort(random_merge_sort[i], 0, len(random_merge_sort[i])-1)\n",
    "    end = timer()\n",
    "    elapsed_time_merge.append(end-start)\n",
    "    \n",
    "    start = timer()\n",
    "    insertionSort(random_insertion_sort[i])\n",
    "    end = timer()\n",
    "    elapsed_time_insertion.append(end-start)\n",
    "    \n",
    "# plot the running time results\n",
    "plt.plot(size, elapsed_time_insertion, color='blue', label='insertionSort')\n",
    "plt.plot(size, elapsed_time_merge, color='red', label='mergeSort')\n",
    "plt.title(\"Running time of algorithms\")\n",
    "plt.xlabel(\"Input size\")\n",
    "plt.ylabel(\"Running time\")\n",
    "plt.grid(True)\n",
    "plt.legend()\n",
    "plt.show()"
   ]
  },
  {
   "cell_type": "markdown",
   "id": "366ef4cd",
   "metadata": {},
   "source": [
    "# Question 2-(3): Comparison of Merge vs. Insertion Sort"
   ]
  },
  {
   "cell_type": "markdown",
   "id": "ee12fc40",
   "metadata": {},
   "source": [
    "### Merge Sort Running Time:\n",
    "With a randomly generated input, the running time of merge sort is: $\\Theta(nlogn)$, $\\Omega(nlogn)$, and $O(nlogn)$\n",
    "\n",
    "### Insertion Sort Running Time:\n",
    "With a randomly generated input, the running time of insertion sort is: $\\Theta(n^2)$, $\\Omega(n^2)$, and $O(n^2)$\n",
    "\n",
    "### Comparison:\n",
    "The results of the two sorting algorithm's running times are shown in the graph from the execution of the cell above. Insertion sort, being an algorithm with a runtime of $O(n^2)$, grows much quicker than merge sort, an algorithm with a runtime of $O(nlogn)$. This discrepancy can be seen in the output graph above."
   ]
  },
  {
   "cell_type": "markdown",
   "id": "d4ae8007",
   "metadata": {},
   "source": [
    "# Question 3: Bubble Sort Implementation"
   ]
  },
  {
   "cell_type": "code",
   "execution_count": 60,
   "id": "01b79eb4",
   "metadata": {},
   "outputs": [
    {
     "name": "stdout",
     "output_type": "stream",
     "text": [
      "Randomly generated input array of size 20: \n",
      "[428434, 146942, 628339, 781344, 765330, 246630, 54993, 99555, 867428, 273842, 836821, 698835, 171149, 716791, 803877, 490900, 198232, 467215, 246438, 10589]\n",
      "\n",
      "Sorted array: \n",
      "[10589, 54993, 99555, 146942, 171149, 198232, 246438, 246630, 273842, 428434, 467215, 490900, 628339, 698835, 716791, 765330, 781344, 803877, 836821, 867428]\n"
     ]
    }
   ],
   "source": [
    "# numpy for random number generator\n",
    "import numpy as np\n",
    "\n",
    "# bubbleSort definition\n",
    "def bubbleSort(A, n):\n",
    "    for i in range(n):\n",
    "        for j in range(n, i, -1):\n",
    "            if A[j] < A[j-1]:\n",
    "                A[j], A[j-1] = A[j-1], A[j]\n",
    "\n",
    "# populate input array with 20 random numbers in the range of 0 - 1000000\n",
    "random_set = []\n",
    "for i in range(20):\n",
    "    random_set.append(np.random.randint(0, 1000000, None))\n",
    "\n",
    "# test bubbleSort by printing the input and output\n",
    "print(f\"Randomly generated input array of size 20: \\n{random_set}\\n\")\n",
    "bubbleSort(random_set, len(random_set)-1)\n",
    "print(f\"Sorted array: \\n{random_set}\")"
   ]
  },
  {
   "cell_type": "markdown",
   "id": "7ce12fc8",
   "metadata": {},
   "source": [
    "# Question 4: Selection Sort Implementation"
   ]
  },
  {
   "cell_type": "code",
   "execution_count": 64,
   "id": "dbd3127a",
   "metadata": {},
   "outputs": [
    {
     "name": "stdout",
     "output_type": "stream",
     "text": [
      "Randomly generated input array of size 20: \n",
      "[843715, 751715, 940498, 65193, 8266, 925355, 165964, 242247, 234466, 503921, 83870, 669649, 826025, 454057, 892476, 193423, 86463, 601034, 671291, 421268]\n",
      "\n",
      "Sorted array: \n",
      "[8266, 65193, 83870, 86463, 165964, 193423, 234466, 242247, 421268, 454057, 503921, 601034, 669649, 671291, 751715, 826025, 843715, 892476, 925355, 940498]\n"
     ]
    }
   ],
   "source": [
    "# numpy for random number generator\n",
    "import numpy as np\n",
    "\n",
    "def selectionSort(A, n):\n",
    "    for i in range(0, n):\n",
    "        smallest = i\n",
    "        for j in range(i+1, n+1):\n",
    "            if A[j] < A[smallest]:\n",
    "                smallest = j\n",
    "        A[i], A[smallest] = A[smallest], A[i]\n",
    "\n",
    "# populate input array with 20 random numbers in the range of 0 - 1000000\n",
    "random_set = []\n",
    "for i in range(20):\n",
    "    random_set.append(np.random.randint(0, 1000000, None))\n",
    "\n",
    "# test bubbleSort by printing the input and output\n",
    "print(f\"Randomly generated input array of size 20: \\n{random_set}\\n\")\n",
    "selectionSort(random_set, len(random_set)-1)\n",
    "print(f\"Sorted array: \\n{random_set}\")"
   ]
  }
 ],
 "metadata": {
  "kernelspec": {
   "display_name": "Python 3 (ipykernel)",
   "language": "python",
   "name": "python3"
  },
  "language_info": {
   "codemirror_mode": {
    "name": "ipython",
    "version": 3
   },
   "file_extension": ".py",
   "mimetype": "text/x-python",
   "name": "python",
   "nbconvert_exporter": "python",
   "pygments_lexer": "ipython3",
   "version": "3.9.12"
  }
 },
 "nbformat": 4,
 "nbformat_minor": 5
}
